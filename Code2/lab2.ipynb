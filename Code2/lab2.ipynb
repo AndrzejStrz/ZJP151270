{
 "cells": [
  {
   "cell_type": "code",
   "execution_count": 22,
   "metadata": {
    "collapsed": true,
    "pycharm": {
     "name": "#%%\n"
    }
   },
   "outputs": [
    {
     "name": "stdout",
     "output_type": "stream",
     "text": [
      "Name : tree1, height : 2, leafs : 100\n",
      "Name : tree2, height : 15, leafs : 200\n",
      "Name : tree3, height : 5, leafs : 300\n",
      "Name : tree4, height : 4, leafs : 500\n",
      "Name : tree5, height : 5, leafs : 650\n",
      "tree1 2 100\n"
     ]
    }
   ],
   "source": [
    "class Tree:\n",
    "    def __init__(self, name: str, height: float, leafs: int) -> None:\n",
    "        self.name = name\n",
    "        self.height = height\n",
    "        self.leafs = leafs\n",
    "\n",
    "    def grow(self, height: float) -> None:\n",
    "        self.height += height\n",
    "\n",
    "    def grow_wide(self, leafs: int) -> None:\n",
    "        self.leafs += leafs\n",
    "\n",
    "    def show(self) -> None:\n",
    "        print(f'Name : {self.name}, height : {self.height}, leafs : {self.leafs}')\n",
    "\n",
    "    def __str__(self) -> None:\n",
    "        print(self.name, self.height, self.leafs)\n",
    "\n",
    "\n",
    "tree1 = Tree('tree1', 1, 100)\n",
    "tree2 = Tree('tree2', 2, 200)\n",
    "tree3 = Tree('tree3', 3, 300)\n",
    "tree4 = Tree('tree4', 4, 400)\n",
    "tree5 = Tree('tree5', 5, 500)\n",
    "\n",
    "tree1.grow(1)\n",
    "tree2.grow(13)\n",
    "tree3.grow(2)\n",
    "tree4.grow_wide(100)\n",
    "tree5.grow_wide(150)\n",
    "\n",
    "tree1.show()\n",
    "tree2.show()\n",
    "tree3.show()\n",
    "tree4.show()\n",
    "tree5.show()\n",
    "\n",
    "tree1.__str__()"
   ]
  },
  {
   "cell_type": "code",
   "execution_count": 23,
   "outputs": [
    {
     "name": "stdout",
     "output_type": "stream",
     "text": [
      "\n",
      "        Mo Tu We Th Fr Sa Su\n",
      "                        1 2\n",
      "        3   4  5  6  7  8 9\n",
      "        10 11 12 13 14 15 16\n",
      "        17 18 19 20 21 22 23\n",
      "        24 25 26 27 28 29 30\n",
      "        31\n",
      "        \n"
     ]
    }
   ],
   "source": [
    "class Calendar:\n",
    "\n",
    "    def __init__(self, year: int, month: int) -> None:\n",
    "        self.year = year\n",
    "        self.month = month\n",
    "\n",
    "    def show(self) -> None:\n",
    "        print(\"\"\"\n",
    "        Mo Tu We Th Fr Sa Su\n",
    "                        1 2\n",
    "        3   4  5  6  7  8 9\n",
    "        10 11 12 13 14 15 16\n",
    "        17 18 19 20 21 22 23\n",
    "        24 25 26 27 28 29 30\n",
    "        31\n",
    "        \"\"\")\n",
    "\n",
    "\n",
    "calendar = Calendar(13, 10)\n",
    "calendar.show()"
   ],
   "metadata": {
    "collapsed": false,
    "pycharm": {
     "name": "#%%\n"
    }
   }
  },
  {
   "cell_type": "code",
   "execution_count": 24,
   "outputs": [
    {
     "name": "stdout",
     "output_type": "stream",
     "text": [
      "2\n",
      "False\n",
      "False\n",
      "16\n",
      "True\n",
      "True\n"
     ]
    }
   ],
   "source": [
    "class Pies:\n",
    "\n",
    "    def ustaw_czas_posilku(self, hours: int) -> None:\n",
    "        self.czas = hours\n",
    "\n",
    "    def pobierz_czas_posilku(self) -> float:\n",
    "        return self.czas\n",
    "\n",
    "    def potrzebny_spacer(self) -> bool:\n",
    "        if self.czas > 5:\n",
    "            return True\n",
    "        else:\n",
    "            return False\n",
    "\n",
    "\n",
    "class WlascicielPsa:\n",
    "    def zabierz_na_spacer(self, pies: Pies) -> bool:\n",
    "        return pies.potrzebny_spacer()\n",
    "\n",
    "\n",
    "\n",
    "pies = Pies()\n",
    "wlasciciel = WlascicielPsa()\n",
    "pies.ustaw_czas_posilku(2)\n",
    "print(pies.pobierz_czas_posilku())\n",
    "print(pies.potrzebny_spacer())\n",
    "print(wlasciciel.zabierz_na_spacer(pies))\n",
    "pies.ustaw_czas_posilku(16)\n",
    "print(pies.pobierz_czas_posilku())\n",
    "print(wlasciciel.zabierz_na_spacer(pies))\n",
    "print(pies.potrzebny_spacer())\n"
   ],
   "metadata": {
    "collapsed": false,
    "pycharm": {
     "name": "#%%\n"
    }
   }
  },
  {
   "cell_type": "code",
   "execution_count": 25,
   "outputs": [
    {
     "name": "stdout",
     "output_type": "stream",
     "text": [
      "500\n",
      "3500\n",
      "brak srodkow\n",
      "\n",
      "500\n",
      "5000\n",
      "39900\n"
     ]
    }
   ],
   "source": [
    "class Konto:\n",
    "    def __init__(self, saldo_pocz: float) -> None:\n",
    "        self.saldo = saldo_pocz\n",
    "\n",
    "    def wplata(self, saldo: float) -> None:\n",
    "        self.saldo += saldo\n",
    "\n",
    "    def wyplata(self, saldo: float) -> None:\n",
    "        if self.saldo >= saldo:\n",
    "            self.saldo -= saldo\n",
    "        else:\n",
    "            print('brak srodkow')\n",
    "\n",
    "    def przelew_m_kontami(self, kwota: float, Konto: float) -> None:\n",
    "        if self.saldo > kwota:\n",
    "            self.saldo -= kwota\n",
    "            Konto.wplata(kwota)\n",
    "\n",
    "    def przelew(self, kwota: float) -> None:\n",
    "        if self.saldo >= kwota:\n",
    "            self.saldo -= kwota\n",
    "        else:\n",
    "            print('brak srodkow')\n",
    "\n",
    "\n",
    "konto1 = Konto(1000)\n",
    "konto2 = Konto(3000)\n",
    "konto3 = Konto(40000)\n",
    "\n",
    "konto1.przelew_m_kontami(500, konto2)\n",
    "print(konto1.saldo)\n",
    "print(konto2.saldo)\n",
    "konto2.wplata(1500)\n",
    "konto3.przelew(100)\n",
    "konto1.wyplata(1000)\n",
    "print()\n",
    "\n",
    "konto1.przelew_m_kontami(4000, konto2)\n",
    "print(konto1.saldo)\n",
    "print(konto2.saldo)\n",
    "print(konto3.saldo)"
   ],
   "metadata": {
    "collapsed": false,
    "pycharm": {
     "name": "#%%\n"
    }
   }
  },
  {
   "cell_type": "code",
   "execution_count": 26,
   "outputs": [
    {
     "name": "stdout",
     "output_type": "stream",
     "text": [
      "Nokia\n",
      "3310\n",
      "100000000\n",
      "Iphone\n",
      "13Pro\n",
      "2\n",
      "Xiaomi\n",
      "Najlepsze\n",
      "2000\n"
     ]
    }
   ],
   "source": [
    "class Smartphone:\n",
    "    def __init__(self):\n",
    "        self._manufacturer: str = ''\n",
    "        self._model: str = ''\n",
    "        self._price: float = 0\n",
    "\n",
    "    def set_atrr(self, manufacturer: str, model: str, price: float) -> None:\n",
    "        self._manufacturer = manufacturer\n",
    "        self._model = model\n",
    "        self._price = price\n",
    "\n",
    "    def show_atrr(self) -> None:\n",
    "        print(self._manufacturer)\n",
    "        print(self._model)\n",
    "        print(self._price)\n",
    "\n",
    "\n",
    "sm1 = Smartphone()\n",
    "sm2 = Smartphone()\n",
    "sm3 = Smartphone()\n",
    "\n",
    "sm1.set_atrr('Nokia', '3310', 100000000)\n",
    "sm2.set_atrr('Iphone', '13Pro', 2)\n",
    "sm3.set_atrr('Xiaomi', 'Najlepsze', 2000)\n",
    "\n",
    "sm1.show_atrr()\n",
    "sm2.show_atrr()\n",
    "sm3.show_atrr()"
   ],
   "metadata": {
    "collapsed": false,
    "pycharm": {
     "name": "#%%\n"
    }
   }
  },
  {
   "cell_type": "code",
   "execution_count": 27,
   "outputs": [
    {
     "name": "stdout",
     "output_type": "stream",
     "text": [
      "26\n",
      "-\n",
      "130\n",
      "\n",
      "\n",
      "1.0\n",
      "-\n",
      "5.0\n",
      "\n",
      "10\n",
      "-\n",
      "10\n",
      "\n",
      "\n",
      "1.0\n",
      "\n"
     ]
    }
   ],
   "source": [
    "class Ulamek:\n",
    "    def __init__(self, licznik: int, mianownik: int) -> None:\n",
    "        self.licznik = licznik\n",
    "        self.mianownik = mianownik\n",
    "\n",
    "    def show(self) -> None:\n",
    "        if self.mianownik != 1:\n",
    "            print(self.licznik)\n",
    "            print('-')\n",
    "            print(self.mianownik)\n",
    "            print()\n",
    "        else:\n",
    "            print(self.licznik)\n",
    "            print()\n",
    "\n",
    "    def skroc(self) -> None:\n",
    "        licznik = self.licznik\n",
    "        mianownik = self.mianownik\n",
    "\n",
    "        while mianownik:\n",
    "            licznik, mianownik = mianownik, licznik % mianownik\n",
    "\n",
    "        print()\n",
    "        self.licznik /= licznik\n",
    "        self.mianownik /= licznik\n",
    "\n",
    "\n",
    "ulamek = Ulamek(26, 130)\n",
    "ulamek2 = Ulamek(10, 10)\n",
    "ulamek.show()\n",
    "ulamek.skroc()\n",
    "ulamek.show()\n",
    "\n",
    "ulamek2.show()\n",
    "ulamek2.skroc()\n",
    "ulamek2.show()"
   ],
   "metadata": {
    "collapsed": false,
    "pycharm": {
     "name": "#%%\n"
    }
   }
  },
  {
   "cell_type": "code",
   "execution_count": 27,
   "outputs": [],
   "source": [],
   "metadata": {
    "collapsed": false,
    "pycharm": {
     "name": "#%%\n"
    }
   }
  }
 ],
 "metadata": {
  "kernelspec": {
   "display_name": "Python 3",
   "language": "python",
   "name": "python3"
  },
  "language_info": {
   "codemirror_mode": {
    "name": "ipython",
    "version": 2
   },
   "file_extension": ".py",
   "mimetype": "text/x-python",
   "name": "python",
   "nbconvert_exporter": "python",
   "pygments_lexer": "ipython2",
   "version": "2.7.6"
  }
 },
 "nbformat": 4,
 "nbformat_minor": 0
}