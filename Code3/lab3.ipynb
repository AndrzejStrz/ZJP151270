{
 "cells": [
  {
   "cell_type": "code",
   "execution_count": 4,
   "metadata": {
    "collapsed": true,
    "pycharm": {
     "name": "#%%\n"
    }
   },
   "outputs": [
    {
     "data": {
      "text/plain": "22"
     },
     "execution_count": 4,
     "metadata": {},
     "output_type": "execute_result"
    }
   ],
   "source": [
    "from datetime import date\n",
    "\n",
    "\n",
    "class Osoba:\n",
    "    _imie=''\n",
    "    _nazwisko=''\n",
    "    _rok_urodzenia =0\n",
    "\n",
    "    def __init__(self, imie: str = 'Jan', nazwisko: str = 'Kowalski', rok_urodzenia: int= '1999') -> None:\n",
    "        self._imie = imie\n",
    "        self._nazwisko = nazwisko\n",
    "        self._rok_urodzenia = rok_urodzenia\n",
    "\n",
    "    def __srt__(self) -> str:\n",
    "        return \"Jestem \"+self._imie+\" \"+ self._nazwisko+\". Urodziłem się w roku \"+ str(self._rok_urodzenia)\n",
    "\n",
    "    def oblicz_wiek(self):\n",
    "        return date.today().year - self._rok_urodzenia\n",
    "\n",
    "class Student(Osoba):\n",
    "    _rok = None\n",
    "    _numer_grupy = None\n",
    "    _numer_albumu = None\n",
    "\n",
    "    def __init__(self, imie: str = 'Jan', nazwisko: str = 'Kowalski', rok_urodzenia: int= '1999',rok: int = 1, numer_grupy: int = 1, numer_albumu: int= 1999) -> None:\n",
    "        super().__init__(imie, nazwisko, rok_urodzenia)\n",
    "        self._rok = rok\n",
    "        self._numer_grupy = numer_grupy\n",
    "        self._numer_albumu = numer_albumu\n",
    "\n",
    "    def __srt__(self) -> [str]:\n",
    "        return \"Jestem \"+self._imie+\" \"+ self._nazwisko+\". Urodziłem się w roku \"+ str(self._rok_urodzenia)+\". Jestem studentem. \"\n",
    "\n",
    "def StudentPierwszegoRoku(Student):\n",
    "    def __init__(self):\n",
    "        print('Python nie pozwala mnie stworzyć i deklaruje mnie jako NoneType object :C. Nawet tego printa nie sa się wywołać. ')\n",
    "\n",
    "\n",
    "\n",
    "s1 = Student('Jakub','Kowalik',2000,2,2,11100)\n",
    "s1.oblicz_wiek()\n"
   ]
  },
  {
   "cell_type": "code",
   "execution_count": 7,
   "outputs": [
    {
     "name": "stdout",
     "output_type": "stream",
     "text": [
      "2.9\n",
      "3.85\n"
     ]
    },
    {
     "data": {
      "text/plain": "'Jan Jankowski 3.85'"
     },
     "execution_count": 7,
     "metadata": {},
     "output_type": "execute_result"
    }
   ],
   "source": [
    "from statistics import mean\n",
    "\n",
    "\n",
    "class Pupil:\n",
    "    _imie = None\n",
    "    _nazwisko = None\n",
    "    _marks = {}\n",
    "\n",
    "    def __init__(self, imie: str = 'Jan', nazwisko: str = 'Kowalski', slownik: dict = None) -> None:\n",
    "        self._imie = imie\n",
    "        self._nazwisko = nazwisko\n",
    "        self._marks = slownik\n",
    "\n",
    "    def complete_marks(self,new_marks: dict):\n",
    "        dnew = dict()\n",
    "        for key, value in self._marks.items():\n",
    "            dnew[key] = value\n",
    "        for key, value in new_marks.items():\n",
    "            dnew[key] = value\n",
    "        for key, value in dnew.items():\n",
    "            if value not in [1,1.5,2,2.5,3,3.5,4,4.5,5,5.5,6]:\n",
    "                return 'Bad values'\n",
    "            else:\n",
    "                pass\n",
    "        self._marks = dnew\n",
    "\n",
    "    def print_marks(self):\n",
    "        for key, value in self._marks.items():\n",
    "            print(key+ ' ' + str(value))\n",
    "\n",
    "    def mean_marks(self):\n",
    "        return mean(self._marks.values())\n",
    "\n",
    "    def __str__(self) -> [str]:\n",
    "        return self._imie+\" \"+ self._nazwisko+ \" \" + str(self.mean_marks())\n",
    "\n",
    "class Student(Pupil):\n",
    "    _weights = {}\n",
    "\n",
    "    def __init__(self, imie: str = 'Jan', nazwisko: str = 'Kowalski', slownik: dict = None, wagi: dict=None) -> None:\n",
    "        super().__init__(imie,nazwisko,slownik)\n",
    "        self._weights = wagi\n",
    "\n",
    "    def complete_weights(self,new_weights):\n",
    "        dnew = dict()\n",
    "        for key, value in self._weights.items():\n",
    "            dnew[key] = value\n",
    "        for key, value in new_weights.items():\n",
    "            dnew[key] = value\n",
    "        for key, value in dnew.items():\n",
    "            if value not in [1,1.5,2,2.5,3,3.5,4,4.5,5,5.5,6]:\n",
    "                return 'Bad values'\n",
    "            else:\n",
    "                pass\n",
    "        self._weights = dnew\n",
    "\n",
    "    def mean_marks(self):\n",
    "        help_weights = []\n",
    "        help_marks = []\n",
    "        ans = 0\n",
    "\n",
    "        for key, value in self._weights.items():\n",
    "            help_weights.append(value)\n",
    "        if min(help_weights)<=0 or max(help_weights)>1:\n",
    "            return \"Bad values\"\n",
    "        for key, value in self._marks.items():\n",
    "            help_marks.append(value)\n",
    "        for x in range(len(help_weights)):\n",
    "            ans += help_weights[x]*help_marks[x]\n",
    "\n",
    "        return ans/sum(help_weights)\n",
    "\n",
    "    def __str__(self) -> [str]:\n",
    "        return self._imie+\" \"+ self._nazwisko+ \" \" + str(self.mean_marks())\n",
    "\n",
    "a = Pupil('Adam','Adamski',{'jezyk polski':2, 'jezyk angielski':1,'jezyk czeski':4,'matematyla':4.5})\n",
    "a.complete_marks({'jezyk podlaski':3})\n",
    "# a.print_marks()\n",
    "print(a.mean_marks())\n",
    "b = Student('Jan','Jankowski',{'jezyk polski':2, 'jezyk angielski':1,'jezyk czeski':4,'matematyla':4.5},{'jezyk polski':0.1, 'jezyk angielski':0.1,'jezyk czeski':0.1,'matematyla':0.7})\n",
    "print(b.mean_marks())\n",
    "b.__str__()"
   ],
   "metadata": {
    "collapsed": false,
    "pycharm": {
     "name": "#%%\n"
    }
   }
  },
  {
   "cell_type": "code",
   "execution_count": 6,
   "outputs": [],
   "source": [
    "#Zadanie 3 może uda mi się zrobić w weekend. Mam dużo do zrobienia w pracy"
   ],
   "metadata": {
    "collapsed": false,
    "pycharm": {
     "name": "#%%\n"
    }
   }
  },
  {
   "cell_type": "code",
   "execution_count": 6,
   "outputs": [],
   "source": [],
   "metadata": {
    "collapsed": false,
    "pycharm": {
     "name": "#%%\n"
    }
   }
  }
 ],
 "metadata": {
  "kernelspec": {
   "display_name": "Python 3",
   "language": "python",
   "name": "python3"
  },
  "language_info": {
   "codemirror_mode": {
    "name": "ipython",
    "version": 2
   },
   "file_extension": ".py",
   "mimetype": "text/x-python",
   "name": "python",
   "nbconvert_exporter": "python",
   "pygments_lexer": "ipython2",
   "version": "2.7.6"
  }
 },
 "nbformat": 4,
 "nbformat_minor": 0
}