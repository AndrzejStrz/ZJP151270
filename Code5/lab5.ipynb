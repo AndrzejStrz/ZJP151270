{
 "cells": [
  {
   "cell_type": "code",
   "execution_count": 6,
   "metadata": {
    "collapsed": true,
    "pycharm": {
     "name": "#%%\n"
    }
   },
   "outputs": [
    {
     "name": "stdout",
     "output_type": "stream",
     "text": [
      "Konto o numerze: 1 ma stan konta: 2000\n",
      "Konto o numerze: 1 ma stan konta: 4000\n",
      "Nie masz tyle pieniedzy. Wchodzisz na debet\n",
      "Konto o numerze: 1 ma stan konta: -567563589\n",
      "Konto o numerze: 1 ma stan konta: 0\n",
      "Konto o numerze: 2 ma stan konta: 4000\n"
     ]
    }
   ],
   "source": [
    "class BankAccount:\n",
    "    def __init__(self, number: int, balance: float = 0) -> None:\n",
    "        self.number = number\n",
    "        self.balance = balance\n",
    "\n",
    "    def deposit(self, amount: float) -> None:\n",
    "        self.balance += amount\n",
    "\n",
    "    def withdraw(self, amount: float) -> None:\n",
    "        if amount > self.balance:\n",
    "            print('Nie masz tyle pieniedzy. Wchodzisz na debet')\n",
    "        self.balance -= amount\n",
    "\n",
    "    def merge_to(self, other_account: float) -> None:\n",
    "        other_account.balance += self.balance\n",
    "        self.balance = 0\n",
    "\n",
    "    def __str__(self):\n",
    "        return f'Konto o numerze: {self.number} ma stan konta: {self.balance}'\n",
    "\n",
    "account1 = BankAccount(1, 2000)\n",
    "print(account1)\n",
    "account1.deposit(2000)\n",
    "print(account1)\n",
    "account1.withdraw(567567589)\n",
    "print(account1)\n",
    "account2 = BankAccount(2, 567567589)\n",
    "account1.merge_to(account2)\n",
    "print(account1)\n",
    "print(account2)"
   ]
  },
  {
   "cell_type": "code",
   "execution_count": 7,
   "outputs": [],
   "source": [
    "class SavingsAccount(BankAccount):\n",
    "    def __init__(self, number: int, balance: float = 0, interest_rate: float = 0.05):\n",
    "        super().__init__(number, balance)\n",
    "        self.interest_rate = interest_rate\n",
    "\n",
    "    def get_interests(self):\n",
    "        return self.balance * self.interest_rate\n",
    "\n",
    "    def capitalize(self):\n",
    "        self.balance += self.get_interests()\n"
   ],
   "metadata": {
    "collapsed": false,
    "pycharm": {
     "name": "#%%\n"
    }
   }
  },
  {
   "cell_type": "code",
   "execution_count": 8,
   "outputs": [
    {
     "name": "stdout",
     "output_type": "stream",
     "text": [
      "Konto o numerze: 3 ma stan konta: 10000\n",
      "500.0\n",
      "Konto o numerze: 3 ma stan konta: 10500.0\n"
     ]
    }
   ],
   "source": [
    "account3 = SavingsAccount(3, 10000)\n",
    "print(account3)\n",
    "print(account3.get_interests())\n",
    "account3.capitalize()\n",
    "print(account3)\n"
   ],
   "metadata": {
    "collapsed": false,
    "pycharm": {
     "name": "#%%\n"
    }
   }
  },
  {
   "cell_type": "code",
   "execution_count": 9,
   "outputs": [],
   "source": [
    "class CreditAccount(SavingsAccount):\n",
    "\n",
    "    def withdraw(self, amount: float) -> None:\n",
    "        self.balance -= amount\n",
    "\n",
    "    def merge_to(self, other_account: float) -> None:\n",
    "        if self.balance < 0:\n",
    "            return print('Stan konta jest ujemny')\n",
    "        super().merge_to(other_account)\n",
    "\n",
    "    def get_interests(self):\n",
    "        if self.balance < 0:\n",
    "            return 0\n",
    "        return self.balance * self.interest_rate\n"
   ],
   "metadata": {
    "collapsed": false,
    "pycharm": {
     "name": "#%%\n"
    }
   }
  },
  {
   "cell_type": "code",
   "execution_count": 10,
   "outputs": [
    {
     "name": "stdout",
     "output_type": "stream",
     "text": [
      "Konto o numerze: 4 ma stan konta: 20000\n",
      "Konto o numerze: 4 ma stan konta: 19500\n",
      "Konto o numerze: 3 ma stan konta: 30000.0\n",
      "0.0\n",
      "Konto o numerze: 4 ma stan konta: 0\n",
      "Konto o numerze: 4 ma stan konta: 21.11\n",
      "1.0555\n"
     ]
    }
   ],
   "source": [
    "account4 = CreditAccount(4, 20000)\n",
    "print(account4)\n",
    "account4.withdraw(500)\n",
    "print(account4)\n",
    "account4.merge_to(account3)\n",
    "print(account3)\n",
    "print(account4.get_interests())\n",
    "print(account4)\n",
    "account4.deposit(21.11)\n",
    "print(account4)\n",
    "print(account4.get_interests())"
   ],
   "metadata": {
    "collapsed": false,
    "pycharm": {
     "name": "#%%\n"
    }
   }
  },
  {
   "cell_type": "code",
   "execution_count": 11,
   "outputs": [
    {
     "name": "stdout",
     "output_type": "stream",
     "text": [
      "Lenovo 5\n",
      "Dell 7\n",
      "Total number of Laptops 12\n",
      "Laptops are portable\n",
      "Total number of Laptops 0\n"
     ]
    }
   ],
   "source": [
    "class Laptop:\n",
    "    laptop_count = 0\n",
    "    def __init__(self, name: str, count: int):\n",
    "        self.name = name\n",
    "        self.count = count\n",
    "        Laptop.laptop_count += count\n",
    "\n",
    "    @staticmethod\n",
    "    def advantage():\n",
    "        return print('Laptops are portable')\n",
    "\n",
    "    @staticmethod\n",
    "    def reset_count():\n",
    "        Laptop.laptop_count = 0\n",
    "\n",
    "lenovo = Laptop(\"Lenovo\", 5)\n",
    "dell = Laptop(\"Dell\", 7)\n",
    "\n",
    "print(lenovo.name, lenovo.count)\n",
    "print(dell.name, dell.count)\n",
    "print(\"Total number of Laptops\", Laptop.laptop_count)\n",
    "Laptop.advantage()\n",
    "Laptop.reset_count()\n",
    "print(\"Total number of Laptops\", Laptop.laptop_count)\n"
   ],
   "metadata": {
    "collapsed": false,
    "pycharm": {
     "name": "#%%\n"
    }
   }
  },
  {
   "cell_type": "code",
   "execution_count": 12,
   "outputs": [
    {
     "name": "stdout",
     "output_type": "stream",
     "text": [
      "125663.70614359173\n",
      "5428.672105403162\n"
     ]
    }
   ],
   "source": [
    "import math\n",
    "\n",
    "\n",
    "class Cylinder:\n",
    "    @staticmethod\n",
    "    def area(area_object: float, height: float) -> float:\n",
    "        return 2 * math.pi * (area_object + height) * area_object\n",
    "\n",
    "    @staticmethod\n",
    "    def capacity(area_object: float, height: float) -> float:\n",
    "        return math.pi * (area_object ** 2) * height\n",
    "\n",
    "\n",
    "print(Cylinder.area(100, 100))\n",
    "print(Cylinder.capacity(12, 12))"
   ],
   "metadata": {
    "collapsed": false,
    "pycharm": {
     "name": "#%%\n"
    }
   }
  },
  {
   "cell_type": "code",
   "execution_count": 12,
   "outputs": [],
   "source": [],
   "metadata": {
    "collapsed": false,
    "pycharm": {
     "name": "#%%\n"
    }
   }
  }
 ],
 "metadata": {
  "kernelspec": {
   "display_name": "Python 3",
   "language": "python",
   "name": "python3"
  },
  "language_info": {
   "codemirror_mode": {
    "name": "ipython",
    "version": 2
   },
   "file_extension": ".py",
   "mimetype": "text/x-python",
   "name": "python",
   "nbconvert_exporter": "python",
   "pygments_lexer": "ipython2",
   "version": "2.7.6"
  }
 },
 "nbformat": 4,
 "nbformat_minor": 0
}