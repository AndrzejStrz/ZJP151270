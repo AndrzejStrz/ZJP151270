{
 "cells": [
  {
   "cell_type": "code",
   "execution_count": 28,
   "outputs": [
    {
     "name": "stdout",
     "output_type": "stream",
     "text": [
      "Cel: Berlin Dystans: 2350.5 Pasażerowie ['Jan', 'Adam', 'Alan'] Data: 2022-12-01\n",
      "-------------\n",
      "[Cel: UK Dystans: 20000.54 Pasażerowie ['Jan', 'Olek', 'Adam', 'Alicja'] Data: 2013-05-05, Cel: RPA Dystans: 2.56 Pasażerowie ['Jan', 'Adam', 'Przemek'] Data: 2013-05-05, Cel: RPA Dystans: 20000.54 Pasażerowie ['Michał', 'Adam'] Data: 2013-05-06]\n",
      "True\n"
     ]
    }
   ],
   "source": [
    "#zad1\n",
    "\n",
    "import datetime\n",
    "\n",
    "\n",
    "class Course:\n",
    "    def __init__(self, destination: str, distance: float,passengers: list,  date: datetime.date) -> None:\n",
    "        self.destination = destination\n",
    "        self.distance = distance\n",
    "        self.passengers= passengers\n",
    "        self.date = date\n",
    "        if self.date < datetime.date.today():\n",
    "            pass\n",
    "        else:\n",
    "            self.date = datetime.date.today() - datetime.timedelta(days=1)\n",
    "\n",
    "\n",
    "    def __str__(self):\n",
    "        return f'Cel: {self.destination} Dystans: {self.distance} Pasażerowie {self.passengers} Data: {self.date}'\n",
    "\n",
    "    def __repr__(self):\n",
    "        return f'Cel: {self.destination} Dystans: {self.distance} Pasażerowie {self.passengers} Data: {self.date}'\n",
    "\n",
    "    def __eq__(self, other):\n",
    "        return (self.destination and self.date.day) == (other.destination and other.date.day)\n",
    "\n",
    "\n",
    "travel = Course('Berlin', 2350.50, ['Jan','Adam','Alan'],datetime.date(2813, 5, 5))\n",
    "print(travel.__str__())\n",
    "print('-------------')\n",
    "travels = [\n",
    "    Course('UK', 20000.54, ['Jan', 'Olek','Adam','Alicja'],datetime.date(2013, 5, 5)),\n",
    "    Course('RPA', 20000.54,['Michał', 'Adam'] ,datetime.date(2013, 5, 6)),\n",
    "    Course('RPA', 2.56,['Jan', 'Adam', 'Przemek'] ,datetime.date(2013, 5, 5))\n",
    "]\n",
    "\n",
    "travels.sort(key=lambda x: -len(x.passengers))\n",
    "print(travels)\n",
    "\n",
    "eq1 = Course('RPA', 20000.54,['Michał', 'Adam'] ,datetime.date(2013, 5, 5))\n",
    "eq2 = Course('RPA', 2.56,['Jan', 'Adam', 'Przemek'] ,datetime.date(2013, 5, 5))\n",
    "\n",
    "print(eq1.__eq__(eq2))"
   ],
   "metadata": {
    "collapsed": false,
    "pycharm": {
     "name": "#%%\n"
    }
   }
  },
  {
   "cell_type": "code",
   "execution_count": 29,
   "outputs": [
    {
     "name": "stdout",
     "output_type": "stream",
     "text": [
      "[Cel: UK Dystans: 20000.54 Pasażerowie ['Jan', 'Olek', 'Adam', 'Alicja'] Data: 2013-05-05 Vehicle brand: Audi Capacity: 4, Cel: RPA Dystans: 20000.54 Pasażerowie ['Michał', 'Adam', 'Adam', 'Alicja'] Data: 2013-05-06 Vehicle brand:  BMW Capacity: 3, Cel: RPA Dystans: 2.56 Pasażerowie ['Jan', 'Adam', 'Przemek'] Data: 2013-05-05 Vehicle brand: Fiat Capacity: 10]\n"
     ]
    }
   ],
   "source": [
    "#zad 2\n",
    "\n",
    "class Vehicle(Course):\n",
    "    def __init__(self, destination: str, distance: float,passengers: list,  date: datetime.date, vehicleBrand: str, capacity : int):\n",
    "        super().__init__(destination, distance, passengers, date)\n",
    "        self.vehicleBrand = vehicleBrand\n",
    "        if capacity < 1:\n",
    "            self.capacity = 10\n",
    "        else:\n",
    "            self.capacity = capacity\n",
    "\n",
    "    def __str__(self):\n",
    "        return f'Cel: {self.destination} Dystans: {self.distance} Pasażerowie {self.passengers} Data: {self.date} Vehicle brand: {self.vehicleBrand} Capacity: {self.capacity}'\n",
    "\n",
    "    def __repr__(self):\n",
    "        return f'Cel: {self.destination} Dystans: {self.distance} Pasażerowie {self.passengers} Data: {self.date} Vehicle brand: {self.vehicleBrand} Capacity: {self.capacity}'\n",
    "\n",
    "Vehicletravels = [\n",
    "    Vehicle('UK', 20000.54, ['Jan', 'Olek','Adam','Alicja'],datetime.date(2013, 5, 5), 'Audi',4),\n",
    "    Vehicle('RPA', 20000.54,['Michał', 'Adam','Adam','Alicja'] ,datetime.date(2013, 5, 6), ' BMW',3),\n",
    "    Vehicle('RPA', 2.56,['Jan', 'Adam', 'Przemek'] ,datetime.date(2013, 5, 5), 'Fiat',10)\n",
    "]\n",
    "Vehicletravels.sort(key=lambda x: (-len(x.passengers), -x.capacity))\n",
    "print(Vehicletravels)\n",
    "\n"
   ],
   "metadata": {
    "collapsed": false,
    "pycharm": {
     "name": "#%%\n"
    }
   }
  },
  {
   "cell_type": "code",
   "execution_count": 30,
   "outputs": [
    {
     "name": "stdout",
     "output_type": "stream",
     "text": [
      "Cel: UK Dystans: 20000.54 Pasażerowie ['Jan', 'Olek', 'Adam', 'Alicja'] Data: 2013-05-05 Vehicle brand: Audi Capacity: 4\n",
      "---------\n",
      "Cel: RPA Dystans: 20000.54 Pasażerowie ['Michał', 'Adam', 'Adam', 'Alicja'] Data: 2013-05-06 Vehicle brand:  BMW Capacity: 3\n",
      "---------\n",
      "Cel: UK Dystans: 20000.54 Pasażerowie ['Jan', 'Olek', 'Adam', 'Alicja'] Data: 2013-05-05\n",
      "---------\n",
      "Cel: RPA Dystans: 2.56 Pasażerowie ['Jan', 'Adam', 'Przemek'] Data: 2013-05-05 Vehicle brand: Fiat Capacity: 10\n",
      "---------\n",
      "Cel: RPA Dystans: 2.56 Pasażerowie ['Jan', 'Adam', 'Przemek'] Data: 2013-05-05\n",
      "---------\n",
      "Cel: RPA Dystans: 20000.54 Pasażerowie ['Michał', 'Adam'] Data: 2013-05-06\n",
      "---------\n"
     ]
    }
   ],
   "source": [
    "# zad3\n",
    "alltravels = [\n",
    "    Vehicle('UK', 20000.54, ['Jan', 'Olek','Adam','Alicja'],datetime.date(2013, 5, 5), 'Audi',4),\n",
    "    Vehicle('RPA', 20000.54,['Michał', 'Adam','Adam','Alicja'] ,datetime.date(2013, 5, 6), ' BMW',3),\n",
    "    Vehicle('RPA', 2.56,['Jan', 'Adam', 'Przemek'] ,datetime.date(2013, 5, 5), 'Fiat',10),\n",
    "    Course('UK', 20000.54, ['Jan', 'Olek','Adam','Alicja'],datetime.date(2013, 5, 5)),\n",
    "    Course('RPA', 20000.54,['Michał', 'Adam'] ,datetime.date(2013, 5, 6)),\n",
    "    Course('RPA', 2.56,['Jan', 'Adam', 'Przemek'] ,datetime.date(2013, 5, 5))\n",
    "]\n",
    "\n",
    "alltravels.sort(key=lambda x: (-len(x.passengers)))\n",
    "\n",
    "for x in range(len(alltravels)):\n",
    "    print(alltravels[x])\n",
    "    print(\"---------\")"
   ],
   "metadata": {
    "collapsed": false,
    "pycharm": {
     "name": "#%%\n"
    }
   }
  },
  {
   "cell_type": "code",
   "execution_count": 31,
   "outputs": [
    {
     "name": "stdout",
     "output_type": "stream",
     "text": [
      "Cel: UK Dystans: 20000.54 Pasażerowie ['Jan', 'Olek', 'Adam', 'Alicja'] Data: 2013-05-05 Vehicle brand: Audi Capacity: 4\n",
      "---------\n",
      "Cel: RPA Dystans: 20000.54 Pasażerowie ['Michał', 'Adam', 'Adam', 'Alicja'] Data: 2013-05-06 Vehicle brand:  BMW Capacity: 3\n",
      "---------\n",
      "Cel: UK Dystans: 20000.54 Pasażerowie ['Jan', 'Olek', 'Adam', 'Alicja'] Data: 2013-05-05\n",
      "---------\n",
      "Cel: RPA Dystans: 2.56 Pasażerowie ['Jan', 'Adam', 'Przemek'] Data: 2013-05-05 Vehicle brand: Fiat Capacity: 10\n",
      "---------\n",
      "Cel: RPA Dystans: 2.56 Pasażerowie ['Jan', 'Adam', 'Przemek'] Data: 2013-05-05\n",
      "---------\n",
      "Cel: RPA Dystans: 20000.54 Pasażerowie ['Michał', 'Adam'] Data: 2013-05-06\n",
      "---------\n"
     ]
    }
   ],
   "source": [
    "# zad3\n",
    "alltravels = [\n",
    "    Vehicle('UK', 20000.54, ['Jan', 'Olek','Adam','Alicja'],datetime.date(2013, 5, 5), 'Audi',4),\n",
    "    Vehicle('RPA', 20000.54,['Michał', 'Adam','Adam','Alicja'] ,datetime.date(2013, 5, 6), ' BMW',3),\n",
    "    Vehicle('RPA', 2.56,['Jan', 'Adam', 'Przemek'] ,datetime.date(2013, 5, 5), 'Fiat',10),\n",
    "    Course('UK', 20000.54, ['Jan', 'Olek','Adam','Alicja'],datetime.date(2013, 5, 5)),\n",
    "    Course('RPA', 20000.54,['Michał', 'Adam'] ,datetime.date(2013, 5, 6)),\n",
    "    Course('RPA', 2.56,['Jan', 'Adam', 'Przemek'] ,datetime.date(2013, 5, 5))\n",
    "]\n",
    "\n",
    "alltravels.sort(key=lambda x: (-len(x.passengers)))\n",
    "\n",
    "for x in range(len(alltravels)):\n",
    "    print(alltravels[x])\n",
    "    print(\"---------\")"
   ],
   "metadata": {
    "collapsed": false,
    "pycharm": {
     "name": "#%%\n"
    }
   }
  },
  {
   "cell_type": "code",
   "execution_count": 32,
   "outputs": [
    {
     "name": "stdout",
     "output_type": "stream",
     "text": [
      "nokia\n",
      "Cel: {'brand': 'nokia', 'model': '3310', 'opinion': 'jest super'}\n"
     ]
    }
   ],
   "source": [
    "#zad 4\n",
    "class Smartphone:\n",
    "\n",
    "    __record = {\n",
    "    \"brand\": \"\",\n",
    "    \"model\": \"\",\n",
    "    }\n",
    "    def __init__(self, brand: str, model: str) -> None:\n",
    "        self.__record['brand'] = brand\n",
    "        self.__record['model'] = model\n",
    "\n",
    "    def __getitem__(self, item):\n",
    "        return self.__record[item]\n",
    "\n",
    "    def __setitem__(self, key, value):\n",
    "        self.__record[key] = value\n",
    "\n",
    "    def __str__(self):\n",
    "        return f'Cel: {self.__record}'\n",
    "\n",
    "\n",
    "\n",
    "\n",
    "a = Smartphone('nokia','3310')\n",
    "print(a.__getitem__('brand'))\n",
    "a.__setitem__('opinion','jest super')\n",
    "\n",
    "print(a.__str__())"
   ],
   "metadata": {
    "collapsed": false,
    "pycharm": {
     "name": "#%%\n"
    }
   }
  },
  {
   "cell_type": "code",
   "execution_count": 33,
   "outputs": [
    {
     "name": "stdout",
     "output_type": "stream",
     "text": [
      "Name: {'MagiSzowo'} Population {26000}\n"
     ]
    }
   ],
   "source": [
    "class City:\n",
    "    def __init__(self, name: str, population: int) -> None:\n",
    "        self.name = name\n",
    "        self.population = population\n",
    "\n",
    "    def __add__(self, other):\n",
    "        return City(str({self.name + other.name}), {self.population + other.population})\n",
    "\n",
    "    def __str__(self):\n",
    "        return f'Name: {self.name} Population {self.population}'\n",
    "\n",
    "c1 = City('Magi',12000)\n",
    "c2 = City('Szowo', 14000)\n",
    "c3 = c1.__add__(c2)\n",
    "print(c3.__str__())"
   ],
   "metadata": {
    "collapsed": false,
    "pycharm": {
     "name": "#%%\n"
    }
   }
  },
  {
   "cell_type": "code",
   "execution_count": 33,
   "outputs": [],
   "source": [],
   "metadata": {
    "collapsed": false,
    "pycharm": {
     "name": "#%%\n"
    }
   }
  }
 ],
 "metadata": {
  "kernelspec": {
   "display_name": "Python 3",
   "language": "python",
   "name": "python3"
  },
  "language_info": {
   "codemirror_mode": {
    "name": "ipython",
    "version": 2
   },
   "file_extension": ".py",
   "mimetype": "text/x-python",
   "name": "python",
   "nbconvert_exporter": "python",
   "pygments_lexer": "ipython2",
   "version": "2.7.6"
  }
 },
 "nbformat": 4,
 "nbformat_minor": 0
}