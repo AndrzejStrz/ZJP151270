{
 "cells": [
  {
   "cell_type": "markdown",
   "source": [
    "## Zadanie1"
   ],
   "metadata": {
    "collapsed": false,
    "pycharm": {
     "name": "#%% md\n"
    }
   }
  },
  {
   "cell_type": "markdown",
   "source": [
    "Napisz klasę Product. Klasa powinna posiadać prywatne atrybuty instancyjne:\n",
    "1. name typu str (pol. nazwa)\n",
    "2. quality typu int (pol. jakość)\n",
    "3. price typu float (pol. cena)\n",
    "####\n",
    "Zaimplementuj inicjalizator z trzema argumentami (zachowaj kolejność i nazwy jak wcześniej). Zadbaj również o to aby inicjalizator w razie podania napisów krótszych niż dwa znaki, ustawiał domyślnie None lub pusty napis. Ponadto niezależnie należy sprawdzić, aby cena i jakość była dodatnia (w innym przypadku ustawić na 5).\n",
    "Dodaj do klasy właściwości - (getter i setter). Jeśli dla setterów podane wartości argumentów nie spełniają założeń - wyrzuć wyjątek z odpowiednim komunikatem.\n",
    "Zaimplementuj klasę Telephone dziedziczącą po klasie Product. Klasa ta powinna posiadać atrybuty instancyjne prywatne:"
   ],
   "metadata": {
    "collapsed": false,
    "pycharm": {
     "name": "#%% md\n"
    }
   }
  },
  {
   "cell_type": "markdown",
   "source": [
    "1. number (pol. numer telefonu), typu str\n",
    "2. diagonal_screen typu float (przekątna ekranu)\n",
    "####\n",
    "Rozszerz w tej klasie inicjalizator. Niezależnie sprawdź aby numer telefonu był w formacie \"(XXX)XXX-XXX\"\n",
    "gdzie X to cyfry. Przekątna ekranu musi być liczbą z przedziału [5, 9].\n",
    "Zaimplementuj właściwości (setter i getter) dla każdego atrybutu. Jeśli dla setterów podane wartości\n",
    "argumentów nie spełniają założeń, wyrzuć wyjątek z odpowiednim komunikatem.\n",
    "Poza wspomianymi wyżej klasami stwórz co najmniej 3 obiekty i przechwyć ew. wyjątki.\n"
   ],
   "metadata": {
    "collapsed": false,
    "pycharm": {
     "name": "#%% md\n"
    }
   }
  },
  {
   "cell_type": "code",
   "execution_count": 76,
   "outputs": [
    {
     "name": "stdout",
     "output_type": "stream",
     "text": [
      "Jakość musi być dodatnia\n",
      "Numer musi byc w formacie \"(XXX)XXX-XXX\n"
     ]
    }
   ],
   "source": [
    "class Product:\n",
    "    def __init__(self, name=\"\", quality=5, price=5.0):\n",
    "        self.__name = name if len(name) > 2 else None\n",
    "        self.__quality = quality if quality > 0 else 5\n",
    "        self.__price = price if price > 0 else 5.0\n",
    "\n",
    "    @property\n",
    "    def name(self):\n",
    "        return self.__name\n",
    "\n",
    "    @name.setter\n",
    "    def name(self, value):\n",
    "        if len(value) > 2:\n",
    "            self.__name = value\n",
    "        else:\n",
    "            raise Exception('Nazwa musi miec ponad 2 znaki')\n",
    "\n",
    "    @property\n",
    "    def quality(self):\n",
    "        return self.__quality\n",
    "\n",
    "    @quality.setter\n",
    "    def quality(self, value):\n",
    "        if value > 0:\n",
    "            self.__quality = value\n",
    "        else:\n",
    "            raise Exception('Jakość musi być dodatnia')\n",
    "\n",
    "    @property\n",
    "    def price(self):\n",
    "        return self.__price\n",
    "\n",
    "    @price.setter\n",
    "    def price(self, value):\n",
    "        if value > 0:\n",
    "            self.__price = value\n",
    "        else:\n",
    "            raise Exception('Cena powinna być dodatnia')\n",
    "\n",
    "\n",
    "def checkNumer(a: str):\n",
    "    if a[0] != '(' or a[4] != ')' or a[8] != '-' or len(a) != 12:\n",
    "        return False\n",
    "\n",
    "    variables = [a[1], a[2], a[3], a[5], a[6], a[7], a[9], a[10], a[11]]\n",
    "    flag = True\n",
    "    for var in variables:\n",
    "        try:\n",
    "            int(var)\n",
    "        except ValueError:\n",
    "            flag = False\n",
    "    return flag\n",
    "\n",
    "\n",
    "class Telephone(Product):\n",
    "    def __init__(self, name=\"\", quality=5, price=5.0, number=\"\", diagonal_screen=5.0):\n",
    "        super().__init__(name, quality, price)\n",
    "        self.__number = number if checkNumer(number) else None\n",
    "        self.__diagonal_screen = 5 if (diagonal_screen < 5 or diagonal_screen > 9) else diagonal_screen\n",
    "\n",
    "    @property\n",
    "    def number(self):\n",
    "        return self.__number\n",
    "\n",
    "    @number.setter\n",
    "    def number(self, value):\n",
    "        if checkNumer(value):\n",
    "            self.__number = value\n",
    "        else:\n",
    "            raise Exception('Numer musi byc w formacie \"(XXX)XXX-XXX')\n",
    "\n",
    "    @property\n",
    "    def diagonal_screen(self):\n",
    "        return self.__diagonal_screen\n",
    "\n",
    "    @diagonal_screen.setter\n",
    "    def diagonal_screen(self, value):\n",
    "        if value in (range(5, 10) or value ==5 or value ==10):\n",
    "            self.__diagonal_screen = value\n",
    "        else:\n",
    "            raise Exception('Przekątna ekranu musi wynosić od 5 do 10')\n",
    "\n",
    "\n",
    "try:\n",
    "    product = Product('Myszka', 7, 103.5)\n",
    "    telephone = Telephone('Nokia 3310', 10, 3000, '(666)777-432', 6.5)\n",
    "    product.name = 'Myszka dla dzieci'\n",
    "    product.quality = -2\n",
    "except Exception as e:\n",
    "    print(e)\n",
    "\n",
    "try:\n",
    "    telephone.number = '+48123456789'\n",
    "    telephone.diagonal_screen = 15\n",
    "except Exception as e:\n",
    "    print(e)\n",
    "\n",
    "try:\n",
    "    product = Product('Myszka', 7, 103.5)\n",
    "    telephone = Telephone('Nokia 3310', 10, 3000, '(666)777-432', 6.5)\n",
    "    product.name = 'Myszka dla dzieci'\n",
    "    product.quality = 5\n",
    "except Exception as e:\n",
    "    print(e)"
   ],
   "metadata": {
    "collapsed": false,
    "pycharm": {
     "name": "#%%\n"
    }
   }
  },
  {
   "cell_type": "markdown",
   "source": [
    "## Zadanie 2"
   ],
   "metadata": {
    "collapsed": false,
    "pycharm": {
     "name": "#%% md\n"
    }
   }
  },
  {
   "cell_type": "markdown",
   "source": [
    "Stwórz listę zawierającą 10 liczb całkowitych. Następnie za pomocą wyrażeń lambda stwórz listę\n",
    "zawierającą te, które nie są liczbami pierwszymi."
   ],
   "metadata": {
    "collapsed": false,
    "pycharm": {
     "name": "#%% md\n"
    }
   }
  },
  {
   "cell_type": "code",
   "execution_count": 77,
   "outputs": [
    {
     "name": "stdout",
     "output_type": "stream",
     "text": [
      "[4, 6, 8, 9, 10]\n"
     ]
    }
   ],
   "source": [
    "lista = [1, 2, 3, 4, 5, 6, 7, 8, 9, 10]\n",
    "\n",
    "lista_nie_pierwsza = list(filter(lambda x: any(x % y == 0 for y in range(2, x)), lista))\n",
    "\n",
    "print(lista_nie_pierwsza)"
   ],
   "metadata": {
    "collapsed": false,
    "pycharm": {
     "name": "#%%\n"
    }
   }
  },
  {
   "cell_type": "markdown",
   "source": [
    "## zadanie 3"
   ],
   "metadata": {
    "collapsed": false,
    "pycharm": {
     "name": "#%% md\n"
    }
   }
  },
  {
   "cell_type": "markdown",
   "source": [
    " Napisz funkcję, która przyjmuje krotkę liczb całkowitych. Funkcja zwraca indeks najmniejszej wartości spośród liczb. Wyrzuć wyjątek jeśli najmniejsza wartość znajduje się na więcej niż jednej pozycji w krotce. Przetestuj działanie funkcji.\n"
   ],
   "metadata": {
    "collapsed": false,
    "pycharm": {
     "name": "#%% md\n"
    }
   }
  },
  {
   "cell_type": "code",
   "execution_count": 78,
   "outputs": [
    {
     "name": "stdout",
     "output_type": "stream",
     "text": [
      "Minimum nie występuje tylko na jednym indeksie\n",
      "6\n"
     ]
    }
   ],
   "source": [
    "def zadanie3(tuple):\n",
    "    min_tup = min(tuple)\n",
    "    counter = 0\n",
    "    indeks = 0\n",
    "    szukany_indeks = 0\n",
    "    for x in tuple:\n",
    "        if x == min_tup:\n",
    "            counter += 1\n",
    "            szukany_indeks = indeks\n",
    "        indeks += 1\n",
    "    if counter == 1:\n",
    "        return szukany_indeks\n",
    "        pass\n",
    "    raise Exception('Minimum nie występuje tylko na jednym indeksie')\n",
    "\n",
    "\n",
    "try:\n",
    "    tup = (11, 1, 2, 3, 4, 5, -3, 5, -3)\n",
    "    print(zadanie3(tup))\n",
    "except Exception as e:\n",
    "    print(e)\n",
    "\n",
    "try:\n",
    "    tup = (11, 1, 2, 3, 4, 5, -3, 5, 55, 5, 5)\n",
    "    print(zadanie3(tup))\n",
    "except Exception as e:\n",
    "    print(e)"
   ],
   "metadata": {
    "collapsed": false,
    "pycharm": {
     "name": "#%%\n"
    }
   }
  },
  {
   "cell_type": "markdown",
   "source": [
    "## Zadanie 4"
   ],
   "metadata": {
    "collapsed": false,
    "pycharm": {
     "name": "#%% md\n"
    }
   }
  },
  {
   "cell_type": "markdown",
   "source": [
    "1. Stwórz klasę House z prywatnymi atrybutami address oraz floors. Dodaj w klasie metodę init z dwoma argumentami ustawiającą z nich odpowiednie atrybuty. Dodaj w klasie właściwości (getter i setter).\n",
    "2. Stwórz poza klasą dekorator, który przyjmuje jako parametr typ i sprawdza, czy argument przekazany do funkcji jest tego typu. Jeśli nie, to zwraca odpowiedni komunikat o błędzie.\n",
    "3. Uzupełnij metodę init w klasie House za pomocą dekoratora tak, aby by floors był liczbą całkowitą (typ int). Możesz w razie potrzeby zmodyfikować nieco dekorator.\n",
    "4. Poza klasą sprawdź działanie ograniczenia i przechwyć ew. wyjątki.\n"
   ],
   "metadata": {
    "collapsed": false,
    "pycharm": {
     "name": "#%% md\n"
    }
   }
  },
  {
   "cell_type": "code",
   "execution_count": 79,
   "outputs": [],
   "source": [
    "def check_type(new_type):\n",
    "    def decorator(func):\n",
    "        def wrapper(self, value):\n",
    "            if type(value) == new_type:\n",
    "                func(self, value)\n",
    "            else:\n",
    "                raise TypeError(f\"Wartosc powinna byc typu {new_type},ale jest {type(value)}\")\n",
    "\n",
    "        return wrapper\n",
    "\n",
    "    return decorator"
   ],
   "metadata": {
    "collapsed": false,
    "pycharm": {
     "name": "#%%\n"
    }
   }
  },
  {
   "cell_type": "code",
   "execution_count": 80,
   "outputs": [
    {
     "name": "stdout",
     "output_type": "stream",
     "text": [
      "Wartosc powinna byc typu <class 'int'>,ale jest <class 'float'>\n"
     ]
    }
   ],
   "source": [
    "class House:\n",
    "    def __init__(self, address, floors):\n",
    "        self.address = address\n",
    "        self.floors = floors\n",
    "\n",
    "    @property\n",
    "    def address(self):\n",
    "        return self._address\n",
    "\n",
    "    @address.setter\n",
    "    def address(self, value):\n",
    "        self._address = value\n",
    "\n",
    "    @property\n",
    "    def floors(self):\n",
    "        return self._floors\n",
    "\n",
    "    @floors.setter\n",
    "    @check_type(int)\n",
    "    def floors(self, new_value):\n",
    "        self._floors = new_value\n",
    "\n",
    "\n",
    "try:\n",
    "    house = House(\"Sloneczna\", 5)\n",
    "except TypeError as error:\n",
    "    print(error)\n",
    "\n",
    "try:\n",
    "    house = House(\"Dziwaczna\", 5.4)\n",
    "except TypeError as error:\n",
    "    print(error)\n",
    "\n"
   ],
   "metadata": {
    "collapsed": false,
    "pycharm": {
     "name": "#%%\n"
    }
   }
  },
  {
   "cell_type": "code",
   "execution_count": 80,
   "outputs": [],
   "source": [],
   "metadata": {
    "collapsed": false,
    "pycharm": {
     "name": "#%%\n"
    }
   }
  }
 ],
 "metadata": {
  "kernelspec": {
   "display_name": "Python 3",
   "language": "python",
   "name": "python3"
  },
  "language_info": {
   "codemirror_mode": {
    "name": "ipython",
    "version": 2
   },
   "file_extension": ".py",
   "mimetype": "text/x-python",
   "name": "python",
   "nbconvert_exporter": "python",
   "pygments_lexer": "ipython2",
   "version": "2.7.6"
  }
 },
 "nbformat": 4,
 "nbformat_minor": 0
}